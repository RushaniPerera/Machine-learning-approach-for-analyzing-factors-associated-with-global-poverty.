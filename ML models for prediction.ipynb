{
 "cells": [
  {
   "cell_type": "code",
   "execution_count": 1,
   "metadata": {},
   "outputs": [
    {
     "ename": "ModuleNotFoundError",
     "evalue": "No module named 'tensorflow'",
     "output_type": "error",
     "traceback": [
      "\u001b[1;31m---------------------------------------------------------------------------\u001b[0m",
      "\u001b[1;31mModuleNotFoundError\u001b[0m                       Traceback (most recent call last)",
      "\u001b[1;32m<ipython-input-1-5a41e9efb623>\u001b[0m in \u001b[0;36m<module>\u001b[1;34m\u001b[0m\n\u001b[1;32m----> 1\u001b[1;33m \u001b[1;32mimport\u001b[0m \u001b[0mtensorflow\u001b[0m \u001b[1;32mas\u001b[0m \u001b[0mtf\u001b[0m\u001b[1;33m\u001b[0m\u001b[1;33m\u001b[0m\u001b[0m\n\u001b[0m\u001b[0;32m      2\u001b[0m \u001b[1;32mimport\u001b[0m \u001b[0mkeras\u001b[0m \u001b[1;32mas\u001b[0m \u001b[0mks\u001b[0m\u001b[1;33m\u001b[0m\u001b[1;33m\u001b[0m\u001b[0m\n\u001b[0;32m      3\u001b[0m \u001b[1;32mfrom\u001b[0m \u001b[0mkeras\u001b[0m\u001b[1;33m.\u001b[0m\u001b[0mmodels\u001b[0m \u001b[1;32mimport\u001b[0m \u001b[0mSequential\u001b[0m\u001b[1;33m\u001b[0m\u001b[1;33m\u001b[0m\u001b[0m\n\u001b[0;32m      4\u001b[0m \u001b[1;32mfrom\u001b[0m \u001b[0mkeras\u001b[0m\u001b[1;33m.\u001b[0m\u001b[0mlayers\u001b[0m \u001b[1;32mimport\u001b[0m \u001b[0mDense\u001b[0m\u001b[1;33m\u001b[0m\u001b[1;33m\u001b[0m\u001b[0m\n\u001b[0;32m      5\u001b[0m \u001b[1;32mimport\u001b[0m \u001b[0mpandas\u001b[0m \u001b[1;32mas\u001b[0m \u001b[0mpd\u001b[0m\u001b[1;33m\u001b[0m\u001b[1;33m\u001b[0m\u001b[0m\n",
      "\u001b[1;31mModuleNotFoundError\u001b[0m: No module named 'tensorflow'"
     ]
    }
   ],
   "source": [
    "import tensorflow as tf\n",
    "import keras as ks\n",
    "from keras.models import Sequential\n",
    "from keras.layers import Dense\n",
    "import pandas as pd\n",
    "from sklearn.model_selection import train_test_split\n",
    "import numpy as np\n",
    "from sklearn import preprocessing "
   ]
  },
  {
   "cell_type": "code",
   "execution_count": 2,
   "metadata": {},
   "outputs": [
    {
     "name": "stdout",
     "output_type": "stream",
     "text": [
      "Collecting tensorflow\n",
      "  Using cached https://files.pythonhosted.org/packages/68/8c/42bbb31a25a708e2e24881724ec7bcea05530492de8b1a2e0d8fe43eb2f6/tensorflow-2.4.1-cp37-cp37m-win_amd64.whl\n",
      "Requirement already satisfied: google-pasta~=0.2 in c:\\users\\rasanka\\appdata\\roaming\\python\\python37\\site-packages (from tensorflow) (0.2.0)\n",
      "Requirement already satisfied: astunparse~=1.6.3 in c:\\users\\rasanka\\appdata\\roaming\\python\\python37\\site-packages (from tensorflow) (1.6.3)\n",
      "Requirement already satisfied: numpy~=1.19.2 in c:\\users\\rasanka\\appdata\\roaming\\python\\python37\\site-packages (from tensorflow) (1.19.5)\n",
      "Requirement already satisfied: opt-einsum~=3.3.0 in c:\\users\\rasanka\\appdata\\roaming\\python\\python37\\site-packages (from tensorflow) (3.3.0)\n",
      "Requirement already satisfied: wrapt~=1.12.1 in c:\\users\\rasanka\\appdata\\roaming\\python\\python37\\site-packages (from tensorflow) (1.12.1)\n",
      "Requirement already satisfied: protobuf>=3.9.2 in c:\\users\\rasanka\\appdata\\roaming\\python\\python37\\site-packages (from tensorflow) (3.15.6)\n",
      "Requirement already satisfied: h5py~=2.10.0 in c:\\users\\rasanka\\appdata\\roaming\\python\\python37\\site-packages (from tensorflow) (2.10.0)\n",
      "Requirement already satisfied: absl-py~=0.10 in c:\\users\\rasanka\\appdata\\roaming\\python\\python37\\site-packages (from tensorflow) (0.12.0)\n",
      "Requirement already satisfied: six~=1.15.0 in c:\\users\\rasanka\\appdata\\roaming\\python\\python37\\site-packages (from tensorflow) (1.15.0)\n",
      "Requirement already satisfied: typing-extensions~=3.7.4 in c:\\users\\rasanka\\appdata\\roaming\\python\\python37\\site-packages (from tensorflow) (3.7.4.3)\n",
      "Requirement already satisfied: flatbuffers~=1.12.0 in c:\\users\\rasanka\\appdata\\roaming\\python\\python37\\site-packages (from tensorflow) (1.12)\n",
      "Requirement already satisfied: gast==0.3.3 in c:\\users\\rasanka\\appdata\\roaming\\python\\python37\\site-packages (from tensorflow) (0.3.3)\n",
      "Requirement already satisfied: grpcio~=1.32.0 in c:\\users\\rasanka\\appdata\\roaming\\python\\python37\\site-packages (from tensorflow) (1.32.0)\n",
      "Requirement already satisfied: tensorboard~=2.4 in c:\\users\\rasanka\\appdata\\roaming\\python\\python37\\site-packages (from tensorflow) (2.4.1)\n",
      "Requirement already satisfied: keras-preprocessing~=1.1.2 in c:\\users\\rasanka\\appdata\\roaming\\python\\python37\\site-packages (from tensorflow) (1.1.2)\n",
      "Requirement already satisfied: tensorflow-estimator<2.5.0,>=2.4.0 in c:\\users\\rasanka\\appdata\\roaming\\python\\python37\\site-packages (from tensorflow) (2.4.0)\n",
      "Requirement already satisfied: wheel~=0.35 in c:\\users\\rasanka\\appdata\\roaming\\python\\python37\\site-packages (from tensorflow) (0.36.2)\n",
      "Requirement already satisfied: termcolor~=1.1.0 in c:\\users\\rasanka\\appdata\\roaming\\python\\python37\\site-packages (from tensorflow) (1.1.0)\n",
      "Requirement already satisfied: markdown>=2.6.8 in c:\\users\\rasanka\\appdata\\roaming\\python\\python37\\site-packages (from tensorboard~=2.4->tensorflow) (3.3.4)\n",
      "Requirement already satisfied: google-auth-oauthlib<0.5,>=0.4.1 in c:\\users\\rasanka\\appdata\\roaming\\python\\python37\\site-packages (from tensorboard~=2.4->tensorflow) (0.4.4)\n",
      "Requirement already satisfied: setuptools>=41.0.0 in c:\\program files\\anaconda\\lib\\site-packages (from tensorboard~=2.4->tensorflow) (41.4.0)\n",
      "Requirement already satisfied: google-auth<2,>=1.6.3 in c:\\users\\rasanka\\appdata\\roaming\\python\\python37\\site-packages (from tensorboard~=2.4->tensorflow) (1.28.0)\n",
      "Requirement already satisfied: requests<3,>=2.21.0 in c:\\program files\\anaconda\\lib\\site-packages (from tensorboard~=2.4->tensorflow) (2.22.0)\n",
      "Requirement already satisfied: werkzeug>=0.11.15 in c:\\program files\\anaconda\\lib\\site-packages (from tensorboard~=2.4->tensorflow) (0.16.0)\n",
      "Requirement already satisfied: tensorboard-plugin-wit>=1.6.0 in c:\\users\\rasanka\\appdata\\roaming\\python\\python37\\site-packages (from tensorboard~=2.4->tensorflow) (1.8.0)\n",
      "Requirement already satisfied: importlib-metadata; python_version < \"3.8\" in c:\\program files\\anaconda\\lib\\site-packages (from markdown>=2.6.8->tensorboard~=2.4->tensorflow) (0.23)\n",
      "Requirement already satisfied: requests-oauthlib>=0.7.0 in c:\\users\\rasanka\\appdata\\roaming\\python\\python37\\site-packages (from google-auth-oauthlib<0.5,>=0.4.1->tensorboard~=2.4->tensorflow) (1.3.0)\n",
      "Requirement already satisfied: rsa<5,>=3.1.4; python_version >= \"3.6\" in c:\\users\\rasanka\\appdata\\roaming\\python\\python37\\site-packages (from google-auth<2,>=1.6.3->tensorboard~=2.4->tensorflow) (4.7.2)\n",
      "Requirement already satisfied: cachetools<5.0,>=2.0.0 in c:\\users\\rasanka\\appdata\\roaming\\python\\python37\\site-packages (from google-auth<2,>=1.6.3->tensorboard~=2.4->tensorflow) (4.2.1)\n",
      "Requirement already satisfied: pyasn1-modules>=0.2.1 in c:\\users\\rasanka\\appdata\\roaming\\python\\python37\\site-packages (from google-auth<2,>=1.6.3->tensorboard~=2.4->tensorflow) (0.2.8)\n",
      "Requirement already satisfied: idna<2.9,>=2.5 in c:\\program files\\anaconda\\lib\\site-packages (from requests<3,>=2.21.0->tensorboard~=2.4->tensorflow) (2.8)\n",
      "Requirement already satisfied: urllib3!=1.25.0,!=1.25.1,<1.26,>=1.21.1 in c:\\program files\\anaconda\\lib\\site-packages (from requests<3,>=2.21.0->tensorboard~=2.4->tensorflow) (1.24.2)\n",
      "Requirement already satisfied: chardet<3.1.0,>=3.0.2 in c:\\program files\\anaconda\\lib\\site-packages (from requests<3,>=2.21.0->tensorboard~=2.4->tensorflow) (3.0.4)\n",
      "Requirement already satisfied: certifi>=2017.4.17 in c:\\program files\\anaconda\\lib\\site-packages (from requests<3,>=2.21.0->tensorboard~=2.4->tensorflow) (2019.9.11)\n",
      "Requirement already satisfied: zipp>=0.5 in c:\\program files\\anaconda\\lib\\site-packages (from importlib-metadata; python_version < \"3.8\"->markdown>=2.6.8->tensorboard~=2.4->tensorflow) (0.6.0)\n",
      "Requirement already satisfied: oauthlib>=3.0.0 in c:\\users\\rasanka\\appdata\\roaming\\python\\python37\\site-packages (from requests-oauthlib>=0.7.0->google-auth-oauthlib<0.5,>=0.4.1->tensorboard~=2.4->tensorflow) (3.1.0)\n",
      "Requirement already satisfied: pyasn1>=0.1.3 in c:\\users\\rasanka\\appdata\\roaming\\python\\python37\\site-packages (from rsa<5,>=3.1.4; python_version >= \"3.6\"->google-auth<2,>=1.6.3->tensorboard~=2.4->tensorflow) (0.4.8)\n",
      "Requirement already satisfied: more-itertools in c:\\program files\\anaconda\\lib\\site-packages (from zipp>=0.5->importlib-metadata; python_version < \"3.8\"->markdown>=2.6.8->tensorboard~=2.4->tensorflow) (7.2.0)\n",
      "Installing collected packages: tensorflow\n",
      "Successfully installed tensorflow-2.4.1\n"
     ]
    },
    {
     "name": "stderr",
     "output_type": "stream",
     "text": [
      "  WARNING: The scripts estimator_ckpt_converter.exe, import_pb_to_tensorboard.exe, saved_model_cli.exe, tensorboard.exe, tf_upgrade_v2.exe, tflite_convert.exe, toco.exe and toco_from_protos.exe are installed in 'C:\\Users\\Rasanka\\AppData\\Roaming\\Python\\Python37\\Scripts' which is not on PATH.\n",
      "  Consider adding this directory to PATH or, if you prefer to suppress this warning, use --no-warn-script-location.\n"
     ]
    }
   ],
   "source": [
    "!pip install tensorflow --user"
   ]
  },
  {
   "cell_type": "code",
   "execution_count": 6,
   "metadata": {},
   "outputs": [
    {
     "name": "stdout",
     "output_type": "stream",
     "text": [
      "Collecting keras\n",
      "  Using cached https://files.pythonhosted.org/packages/44/e1/dc0757b20b56c980b5553c1b5c4c32d378c7055ab7bfa92006801ad359ab/Keras-2.4.3-py2.py3-none-any.whl\n",
      "Requirement already satisfied: h5py in c:\\program files\\anaconda\\lib\\site-packages (from keras) (2.9.0)\n",
      "Requirement already satisfied: pyyaml in c:\\program files\\anaconda\\lib\\site-packages (from keras) (5.1.2)\n",
      "Requirement already satisfied: scipy>=0.14 in c:\\program files\\anaconda\\lib\\site-packages (from keras) (1.3.1)\n",
      "Requirement already satisfied: numpy>=1.9.1 in c:\\program files\\anaconda\\lib\\site-packages (from keras) (1.16.5)\n",
      "Requirement already satisfied: six in c:\\program files\\anaconda\\lib\\site-packages (from h5py->keras) (1.12.0)\n",
      "Installing collected packages: keras\n",
      "Successfully installed keras-2.4.3\n"
     ]
    }
   ],
   "source": [
    "!pip install keras --user"
   ]
  },
  {
   "cell_type": "code",
   "execution_count": 2,
   "metadata": {},
   "outputs": [],
   "source": [
    "url = \"E:\\Rushani\\RUSH RESEARCH\\imputeddata.csv\"\n",
    "df = pd.read_csv(url)"
   ]
  },
  {
   "cell_type": "code",
   "execution_count": 3,
   "metadata": {},
   "outputs": [],
   "source": [
    "dataset =df.values"
   ]
  },
  {
   "cell_type": "code",
   "execution_count": 4,
   "metadata": {},
   "outputs": [
    {
     "data": {
      "text/plain": [
       "array([[1.7000000e-02, 6.5460000e+01, 9.7200000e+01, ..., 2.8827400e+06,\n",
       "        1.8441000e+01, 1.2340000e+01],\n",
       "       [5.0000000e-03, 5.7180000e+01, 7.5100000e+01, ..., 4.2228408e+07,\n",
       "        1.1979000e+01, 1.1882000e+01],\n",
       "       [4.7600000e-01, 3.7440000e+01, 6.6000000e+01, ..., 3.0809787e+07,\n",
       "        8.6080000e+00, 7.0190000e+00],\n",
       "       ...,\n",
       "       [1.8800000e-01, 2.7430000e+01, 5.4100000e+01, ..., 2.8498683e+07,\n",
       "        4.2570000e+00, 1.3002000e+01],\n",
       "       [5.7500000e-01, 5.0970000e+01, 8.3000000e+01, ..., 1.7351708e+07,\n",
       "        2.7860000e+00, 1.1500000e+01],\n",
       "       [3.3900000e-01, 4.3410000e+01, 8.8700000e+01, ..., 1.4438802e+07,\n",
       "        8.3050000e+00, 5.0870000e+00]])"
      ]
     },
     "execution_count": 4,
     "metadata": {},
     "output_type": "execute_result"
    }
   ],
   "source": [
    "dataset"
   ]
  },
  {
   "cell_type": "code",
   "execution_count": 5,
   "metadata": {},
   "outputs": [],
   "source": [
    "x = dataset[:,1:13]"
   ]
  },
  {
   "cell_type": "code",
   "execution_count": 6,
   "metadata": {},
   "outputs": [
    {
     "data": {
      "text/plain": [
       "array([[6.5460000e+01, 9.7200000e+01, 8.2000000e-02, ..., 2.8827400e+06,\n",
       "        1.8441000e+01, 1.2340000e+01],\n",
       "       [5.7180000e+01, 7.5100000e+01, 2.3700000e-01, ..., 4.2228408e+07,\n",
       "        1.1979000e+01, 1.1882000e+01],\n",
       "       [3.7440000e+01, 6.6000000e+01, 2.4200000e-01, ..., 3.0809787e+07,\n",
       "        8.6080000e+00, 7.0190000e+00],\n",
       "       ...,\n",
       "       [2.7430000e+01, 5.4100000e+01, 7.8000000e-02, ..., 2.8498683e+07,\n",
       "        4.2570000e+00, 1.3002000e+01],\n",
       "       [5.0970000e+01, 8.3000000e+01, 1.8900000e-01, ..., 1.7351708e+07,\n",
       "        2.7860000e+00, 1.1500000e+01],\n",
       "       [4.3410000e+01, 8.8700000e+01, 1.4100000e-01, ..., 1.4438802e+07,\n",
       "        8.3050000e+00, 5.0870000e+00]])"
      ]
     },
     "execution_count": 6,
     "metadata": {},
     "output_type": "execute_result"
    }
   ],
   "source": [
    "x"
   ]
  },
  {
   "cell_type": "code",
   "execution_count": 7,
   "metadata": {},
   "outputs": [],
   "source": [
    "y = dataset[:,0]"
   ]
  },
  {
   "cell_type": "code",
   "execution_count": 8,
   "metadata": {
    "scrolled": true
   },
   "outputs": [
    {
     "data": {
      "text/plain": [
       "array([0.017, 0.005, 0.476, 0.01 , 0.021, 0.005, 0.003, 0.027, 0.148,\n",
       "       0.001, 0.001, 0.004, 0.495, 0.015, 0.045, 0.001, 0.161, 0.044,\n",
       "       0.019, 0.437, 0.868, 0.238, 0.005, 0.032, 0.663, 0.384, 0.003,\n",
       "       0.005, 0.041, 0.176, 0.766, 0.37 , 0.014, 0.005, 0.001, 0.001,\n",
       "       0.001, 0.171, 0.004, 0.307, 0.033, 0.032, 0.015, 0.005, 0.284,\n",
       "       0.273, 0.014, 0.001, 0.001, 0.034, 0.101, 0.045, 0.002, 0.133,\n",
       "       0.015, 0.087, 0.353, 0.671, 0.137, 0.25 , 0.165, 0.006, 0.001,\n",
       "       0.212, 0.046, 0.003, 0.025, 0.002, 0.002, 0.02 , 0.282, 0.017,\n",
       "       0.002, 0.001, 0.001, 0.368, 0.129, 0.002, 0.002, 0.009, 0.227,\n",
       "       0.007, 0.269, 0.409, 0.01 , 0.002, 0.829, 0.703, 0.001, 0.073,\n",
       "       0.497, 0.002, 0.06 , 0.005, 0.017, 0.154, 0.001, 0.005, 0.017,\n",
       "       0.01 , 0.629, 0.02 , 0.134, 0.15 , 0.002, 0.032, 0.445, 0.535,\n",
       "       0.044, 0.002, 0.039, 0.01 , 0.017, 0.38 , 0.016, 0.026, 0.061,\n",
       "       0.003, 0.004, 0.035, 0.001, 0.555, 0.047, 0.011, 0.345, 0.38 ,\n",
       "       0.055, 0.011, 0.401, 0.014, 0.001, 0.251, 0.189, 0.427, 0.007,\n",
       "       0.008, 0.127, 0.234, 0.002, 0.001, 0.017, 0.048, 0.491, 0.001,\n",
       "       0.492, 0.01 , 0.034, 0.003, 0.001, 0.514, 0.033, 0.417, 0.001,\n",
       "       0.002, 0.012, 0.001, 0.621, 0.131, 0.102, 0.019, 0.188, 0.575,\n",
       "       0.339])"
      ]
     },
     "execution_count": 8,
     "metadata": {},
     "output_type": "execute_result"
    }
   ],
   "source": [
    "y"
   ]
  },
  {
   "cell_type": "code",
   "execution_count": 9,
   "metadata": {},
   "outputs": [
    {
     "data": {
      "text/plain": [
       "array([[0.01845444],\n",
       "       [0.00461361],\n",
       "       [0.54786621],\n",
       "       [0.01038062],\n",
       "       [0.02306805],\n",
       "       [0.00461361],\n",
       "       [0.00230681],\n",
       "       [0.02998847],\n",
       "       [0.16955017],\n",
       "       [0.        ],\n",
       "       [0.        ],\n",
       "       [0.00346021],\n",
       "       [0.56978085],\n",
       "       [0.01614764],\n",
       "       [0.05074971],\n",
       "       [0.        ],\n",
       "       [0.18454441],\n",
       "       [0.04959631],\n",
       "       [0.02076125],\n",
       "       [0.50288351],\n",
       "       [1.        ],\n",
       "       [0.2733564 ],\n",
       "       [0.00461361],\n",
       "       [0.03575548],\n",
       "       [0.76355248],\n",
       "       [0.44175317],\n",
       "       [0.00230681],\n",
       "       [0.00461361],\n",
       "       [0.0461361 ],\n",
       "       [0.20184544],\n",
       "       [0.88235294],\n",
       "       [0.42560554],\n",
       "       [0.01499423],\n",
       "       [0.00461361],\n",
       "       [0.        ],\n",
       "       [0.        ],\n",
       "       [0.        ],\n",
       "       [0.19607843],\n",
       "       [0.00346021],\n",
       "       [0.35294118],\n",
       "       [0.03690888],\n",
       "       [0.03575548],\n",
       "       [0.01614764],\n",
       "       [0.00461361],\n",
       "       [0.32641292],\n",
       "       [0.31372549],\n",
       "       [0.01499423],\n",
       "       [0.        ],\n",
       "       [0.        ],\n",
       "       [0.03806228],\n",
       "       [0.11534025],\n",
       "       [0.05074971],\n",
       "       [0.0011534 ],\n",
       "       [0.15224913],\n",
       "       [0.01614764],\n",
       "       [0.09919262],\n",
       "       [0.40599769],\n",
       "       [0.7727797 ],\n",
       "       [0.15686275],\n",
       "       [0.28719723],\n",
       "       [0.18915802],\n",
       "       [0.00576701],\n",
       "       [0.        ],\n",
       "       [0.24336794],\n",
       "       [0.05190311],\n",
       "       [0.00230681],\n",
       "       [0.02768166],\n",
       "       [0.0011534 ],\n",
       "       [0.0011534 ],\n",
       "       [0.02191465],\n",
       "       [0.32410611],\n",
       "       [0.01845444],\n",
       "       [0.0011534 ],\n",
       "       [0.        ],\n",
       "       [0.        ],\n",
       "       [0.42329873],\n",
       "       [0.14763552],\n",
       "       [0.0011534 ],\n",
       "       [0.0011534 ],\n",
       "       [0.00922722],\n",
       "       [0.26066897],\n",
       "       [0.00692042],\n",
       "       [0.30911188],\n",
       "       [0.47058824],\n",
       "       [0.01038062],\n",
       "       [0.0011534 ],\n",
       "       [0.9550173 ],\n",
       "       [0.80968858],\n",
       "       [0.        ],\n",
       "       [0.08304498],\n",
       "       [0.57208766],\n",
       "       [0.0011534 ],\n",
       "       [0.06805075],\n",
       "       [0.00461361],\n",
       "       [0.01845444],\n",
       "       [0.17647059],\n",
       "       [0.        ],\n",
       "       [0.00461361],\n",
       "       [0.01845444],\n",
       "       [0.01038062],\n",
       "       [0.72433679],\n",
       "       [0.02191465],\n",
       "       [0.15340254],\n",
       "       [0.17185698],\n",
       "       [0.0011534 ],\n",
       "       [0.03575548],\n",
       "       [0.51211073],\n",
       "       [0.61591696],\n",
       "       [0.04959631],\n",
       "       [0.0011534 ],\n",
       "       [0.0438293 ],\n",
       "       [0.01038062],\n",
       "       [0.01845444],\n",
       "       [0.43713956],\n",
       "       [0.01730104],\n",
       "       [0.02883506],\n",
       "       [0.06920415],\n",
       "       [0.00230681],\n",
       "       [0.00346021],\n",
       "       [0.03921569],\n",
       "       [0.        ],\n",
       "       [0.63898501],\n",
       "       [0.05305652],\n",
       "       [0.01153403],\n",
       "       [0.39677047],\n",
       "       [0.43713956],\n",
       "       [0.06228374],\n",
       "       [0.01153403],\n",
       "       [0.46136101],\n",
       "       [0.01499423],\n",
       "       [0.        ],\n",
       "       [0.28835063],\n",
       "       [0.21683968],\n",
       "       [0.49134948],\n",
       "       [0.00692042],\n",
       "       [0.00807382],\n",
       "       [0.14532872],\n",
       "       [0.26874279],\n",
       "       [0.0011534 ],\n",
       "       [0.        ],\n",
       "       [0.01845444],\n",
       "       [0.05420992],\n",
       "       [0.56516724],\n",
       "       [0.        ],\n",
       "       [0.56632065],\n",
       "       [0.01038062],\n",
       "       [0.03806228],\n",
       "       [0.00230681],\n",
       "       [0.        ],\n",
       "       [0.5916955 ],\n",
       "       [0.03690888],\n",
       "       [0.47981546],\n",
       "       [0.        ],\n",
       "       [0.0011534 ],\n",
       "       [0.01268743],\n",
       "       [0.        ],\n",
       "       [0.71510957],\n",
       "       [0.14994233],\n",
       "       [0.11649366],\n",
       "       [0.02076125],\n",
       "       [0.21568627],\n",
       "       [0.66205306],\n",
       "       [0.38985006]])"
      ]
     },
     "execution_count": 9,
     "metadata": {},
     "output_type": "execute_result"
    }
   ],
   "source": [
    "min_max_scaler = preprocessing.MinMaxScaler()\n",
    "x_scale = min_max_scaler.fit_transform(x)\n",
    "x_scale\n",
    "y=np.reshape(y,(-1,1))\n",
    "y_scale=min_max_scaler.fit_transform(y)\n",
    "y_scale"
   ]
  },
  {
   "cell_type": "code",
   "execution_count": 10,
   "metadata": {},
   "outputs": [],
   "source": [
    "x_train , x_test, y_train, y_test = train_test_split(x_scale,y_scale,test_size=0.2, random_state=2)"
   ]
  },
  {
   "cell_type": "code",
   "execution_count": 26,
   "metadata": {},
   "outputs": [
    {
     "name": "stdout",
     "output_type": "stream",
     "text": [
      "Model: \"sequential_2\"\n",
      "_________________________________________________________________\n",
      "Layer (type)                 Output Shape              Param #   \n",
      "=================================================================\n",
      "dense_5 (Dense)              (None, 12)                156       \n",
      "_________________________________________________________________\n",
      "dense_6 (Dense)              (None, 15)                195       \n",
      "_________________________________________________________________\n",
      "dense_7 (Dense)              (None, 15)                240       \n",
      "_________________________________________________________________\n",
      "dense_8 (Dense)              (None, 1)                 16        \n",
      "=================================================================\n",
      "Total params: 607\n",
      "Trainable params: 607\n",
      "Non-trainable params: 0\n",
      "_________________________________________________________________\n"
     ]
    }
   ],
   "source": [
    "model = Sequential([Dense(12,activation='relu',input_dim=12,kernel_initializer='normal'),\n",
    "                   Dense(15,activation='relu'),\n",
    "                   Dense(15,activation='relu'),\n",
    "                   Dense(1,activation='linear')\n",
    "                   ])\n",
    "model.summary()"
   ]
  },
  {
   "cell_type": "code",
   "execution_count": 27,
   "metadata": {},
   "outputs": [],
   "source": [
    "model.compile(optimizer='adam',loss='mean_squared_error',metrics=['accuracy','mean_squared_error'])"
   ]
  },
  {
   "cell_type": "code",
   "execution_count": 28,
   "metadata": {},
   "outputs": [
    {
     "name": "stdout",
     "output_type": "stream",
     "text": [
      "Train on 104 samples, validate on 26 samples\n",
      "Epoch 1/100\n",
      "104/104 [==============================] - 0s 2ms/step - loss: 0.0757 - accuracy: 0.1442 - mean_squared_error: 0.0757 - val_loss: 0.0454 - val_accuracy: 0.1154 - val_mean_squared_error: 0.0454\n",
      "Epoch 2/100\n",
      "104/104 [==============================] - 0s 106us/step - loss: 0.0711 - accuracy: 0.1442 - mean_squared_error: 0.0711 - val_loss: 0.0418 - val_accuracy: 0.1154 - val_mean_squared_error: 0.0418\n",
      "Epoch 3/100\n",
      "104/104 [==============================] - 0s 86us/step - loss: 0.0673 - accuracy: 0.1442 - mean_squared_error: 0.0673 - val_loss: 0.0392 - val_accuracy: 0.1154 - val_mean_squared_error: 0.0392\n",
      "Epoch 4/100\n",
      "104/104 [==============================] - 0s 87us/step - loss: 0.0643 - accuracy: 0.1442 - mean_squared_error: 0.0643 - val_loss: 0.0373 - val_accuracy: 0.1154 - val_mean_squared_error: 0.0373\n",
      "Epoch 5/100\n",
      "104/104 [==============================] - 0s 105us/step - loss: 0.0623 - accuracy: 0.1442 - mean_squared_error: 0.0623 - val_loss: 0.0362 - val_accuracy: 0.1154 - val_mean_squared_error: 0.0362\n",
      "Epoch 6/100\n",
      "104/104 [==============================] - 0s 115us/step - loss: 0.0608 - accuracy: 0.1442 - mean_squared_error: 0.0608 - val_loss: 0.0355 - val_accuracy: 0.1154 - val_mean_squared_error: 0.0355\n",
      "Epoch 7/100\n",
      "104/104 [==============================] - 0s 105us/step - loss: 0.0594 - accuracy: 0.1442 - mean_squared_error: 0.0594 - val_loss: 0.0347 - val_accuracy: 0.1154 - val_mean_squared_error: 0.0347\n",
      "Epoch 8/100\n",
      "104/104 [==============================] - 0s 77us/step - loss: 0.0585 - accuracy: 0.1442 - mean_squared_error: 0.0585 - val_loss: 0.0338 - val_accuracy: 0.1154 - val_mean_squared_error: 0.0338\n",
      "Epoch 9/100\n",
      "104/104 [==============================] - 0s 96us/step - loss: 0.0577 - accuracy: 0.1442 - mean_squared_error: 0.0577 - val_loss: 0.0331 - val_accuracy: 0.1154 - val_mean_squared_error: 0.0331\n",
      "Epoch 10/100\n",
      "104/104 [==============================] - 0s 96us/step - loss: 0.0569 - accuracy: 0.1442 - mean_squared_error: 0.0569 - val_loss: 0.0326 - val_accuracy: 0.1154 - val_mean_squared_error: 0.0326\n",
      "Epoch 11/100\n",
      "104/104 [==============================] - 0s 77us/step - loss: 0.0561 - accuracy: 0.1442 - mean_squared_error: 0.0561 - val_loss: 0.0321 - val_accuracy: 0.1154 - val_mean_squared_error: 0.0321\n",
      "Epoch 12/100\n",
      "104/104 [==============================] - 0s 96us/step - loss: 0.0552 - accuracy: 0.1442 - mean_squared_error: 0.0552 - val_loss: 0.0316 - val_accuracy: 0.1154 - val_mean_squared_error: 0.0316\n",
      "Epoch 13/100\n",
      "104/104 [==============================] - 0s 86us/step - loss: 0.0543 - accuracy: 0.1442 - mean_squared_error: 0.0543 - val_loss: 0.0309 - val_accuracy: 0.1154 - val_mean_squared_error: 0.0309\n",
      "Epoch 14/100\n",
      "104/104 [==============================] - 0s 105us/step - loss: 0.0533 - accuracy: 0.1442 - mean_squared_error: 0.0533 - val_loss: 0.0302 - val_accuracy: 0.1154 - val_mean_squared_error: 0.0302\n",
      "Epoch 15/100\n",
      "104/104 [==============================] - 0s 115us/step - loss: 0.0523 - accuracy: 0.1442 - mean_squared_error: 0.0523 - val_loss: 0.0298 - val_accuracy: 0.1154 - val_mean_squared_error: 0.0298\n",
      "Epoch 16/100\n",
      "104/104 [==============================] - 0s 105us/step - loss: 0.0517 - accuracy: 0.1442 - mean_squared_error: 0.0517 - val_loss: 0.0298 - val_accuracy: 0.1154 - val_mean_squared_error: 0.0298\n",
      "Epoch 17/100\n",
      "104/104 [==============================] - 0s 125us/step - loss: 0.0512 - accuracy: 0.1442 - mean_squared_error: 0.0512 - val_loss: 0.0294 - val_accuracy: 0.1154 - val_mean_squared_error: 0.0294\n",
      "Epoch 18/100\n",
      "104/104 [==============================] - 0s 105us/step - loss: 0.0503 - accuracy: 0.1442 - mean_squared_error: 0.0503 - val_loss: 0.0287 - val_accuracy: 0.1154 - val_mean_squared_error: 0.0287\n",
      "Epoch 19/100\n",
      "104/104 [==============================] - 0s 96us/step - loss: 0.0488 - accuracy: 0.1442 - mean_squared_error: 0.0488 - val_loss: 0.0280 - val_accuracy: 0.1154 - val_mean_squared_error: 0.0280\n",
      "Epoch 20/100\n",
      "104/104 [==============================] - 0s 77us/step - loss: 0.0473 - accuracy: 0.1442 - mean_squared_error: 0.0473 - val_loss: 0.0279 - val_accuracy: 0.1154 - val_mean_squared_error: 0.0279\n",
      "Epoch 21/100\n",
      "104/104 [==============================] - 0s 96us/step - loss: 0.0470 - accuracy: 0.1442 - mean_squared_error: 0.0470 - val_loss: 0.0282 - val_accuracy: 0.1154 - val_mean_squared_error: 0.0282\n",
      "Epoch 22/100\n",
      "104/104 [==============================] - 0s 125us/step - loss: 0.0467 - accuracy: 0.1442 - mean_squared_error: 0.0467 - val_loss: 0.0281 - val_accuracy: 0.1154 - val_mean_squared_error: 0.0281\n",
      "Epoch 23/100\n",
      "104/104 [==============================] - 0s 105us/step - loss: 0.0462 - accuracy: 0.1442 - mean_squared_error: 0.0462 - val_loss: 0.0271 - val_accuracy: 0.1154 - val_mean_squared_error: 0.0271\n",
      "Epoch 24/100\n",
      "104/104 [==============================] - 0s 106us/step - loss: 0.0447 - accuracy: 0.1442 - mean_squared_error: 0.0447 - val_loss: 0.0255 - val_accuracy: 0.1154 - val_mean_squared_error: 0.0255\n",
      "Epoch 25/100\n",
      "104/104 [==============================] - 0s 125us/step - loss: 0.0432 - accuracy: 0.1442 - mean_squared_error: 0.0432 - val_loss: 0.0242 - val_accuracy: 0.1154 - val_mean_squared_error: 0.0242\n",
      "Epoch 26/100\n",
      "104/104 [==============================] - 0s 86us/step - loss: 0.0417 - accuracy: 0.1442 - mean_squared_error: 0.0417 - val_loss: 0.0235 - val_accuracy: 0.1154 - val_mean_squared_error: 0.0235\n",
      "Epoch 27/100\n",
      "104/104 [==============================] - 0s 106us/step - loss: 0.0401 - accuracy: 0.1442 - mean_squared_error: 0.0401 - val_loss: 0.0234 - val_accuracy: 0.1154 - val_mean_squared_error: 0.0234\n",
      "Epoch 28/100\n",
      "104/104 [==============================] - 0s 86us/step - loss: 0.0388 - accuracy: 0.1442 - mean_squared_error: 0.0388 - val_loss: 0.0230 - val_accuracy: 0.1154 - val_mean_squared_error: 0.0230\n",
      "Epoch 29/100\n",
      "104/104 [==============================] - 0s 96us/step - loss: 0.0376 - accuracy: 0.1442 - mean_squared_error: 0.0376 - val_loss: 0.0222 - val_accuracy: 0.1154 - val_mean_squared_error: 0.0222\n",
      "Epoch 30/100\n",
      "104/104 [==============================] - 0s 115us/step - loss: 0.0366 - accuracy: 0.1442 - mean_squared_error: 0.0366 - val_loss: 0.0218 - val_accuracy: 0.1154 - val_mean_squared_error: 0.0218\n",
      "Epoch 31/100\n",
      "104/104 [==============================] - 0s 125us/step - loss: 0.0358 - accuracy: 0.1442 - mean_squared_error: 0.0358 - val_loss: 0.0216 - val_accuracy: 0.1154 - val_mean_squared_error: 0.0216\n",
      "Epoch 32/100\n",
      "104/104 [==============================] - 0s 115us/step - loss: 0.0346 - accuracy: 0.1442 - mean_squared_error: 0.0346 - val_loss: 0.0218 - val_accuracy: 0.1154 - val_mean_squared_error: 0.0218\n",
      "Epoch 33/100\n",
      "104/104 [==============================] - 0s 105us/step - loss: 0.0336 - accuracy: 0.1442 - mean_squared_error: 0.0336 - val_loss: 0.0223 - val_accuracy: 0.1154 - val_mean_squared_error: 0.0223\n",
      "Epoch 34/100\n",
      "104/104 [==============================] - 0s 105us/step - loss: 0.0327 - accuracy: 0.1442 - mean_squared_error: 0.0327 - val_loss: 0.0219 - val_accuracy: 0.1154 - val_mean_squared_error: 0.0219\n",
      "Epoch 35/100\n",
      "104/104 [==============================] - 0s 134us/step - loss: 0.0320 - accuracy: 0.1442 - mean_squared_error: 0.0320 - val_loss: 0.0214 - val_accuracy: 0.1154 - val_mean_squared_error: 0.0214\n",
      "Epoch 36/100\n",
      "104/104 [==============================] - 0s 115us/step - loss: 0.0316 - accuracy: 0.1442 - mean_squared_error: 0.0316 - val_loss: 0.0211 - val_accuracy: 0.1154 - val_mean_squared_error: 0.0211\n",
      "Epoch 37/100\n",
      "104/104 [==============================] - 0s 86us/step - loss: 0.0311 - accuracy: 0.1442 - mean_squared_error: 0.0311 - val_loss: 0.0210 - val_accuracy: 0.1154 - val_mean_squared_error: 0.0210\n",
      "Epoch 38/100\n",
      "104/104 [==============================] - 0s 86us/step - loss: 0.0307 - accuracy: 0.1442 - mean_squared_error: 0.0307 - val_loss: 0.0208 - val_accuracy: 0.1154 - val_mean_squared_error: 0.0208\n",
      "Epoch 39/100\n",
      "104/104 [==============================] - 0s 115us/step - loss: 0.0303 - accuracy: 0.1442 - mean_squared_error: 0.0303 - val_loss: 0.0210 - val_accuracy: 0.1154 - val_mean_squared_error: 0.0210\n",
      "Epoch 40/100\n",
      "104/104 [==============================] - 0s 86us/step - loss: 0.0298 - accuracy: 0.1442 - mean_squared_error: 0.0298 - val_loss: 0.0218 - val_accuracy: 0.1154 - val_mean_squared_error: 0.0218\n",
      "Epoch 41/100\n",
      "104/104 [==============================] - 0s 96us/step - loss: 0.0296 - accuracy: 0.1442 - mean_squared_error: 0.0296 - val_loss: 0.0220 - val_accuracy: 0.1154 - val_mean_squared_error: 0.0220\n",
      "Epoch 42/100\n",
      "104/104 [==============================] - 0s 106us/step - loss: 0.0295 - accuracy: 0.1442 - mean_squared_error: 0.0295 - val_loss: 0.0219 - val_accuracy: 0.1154 - val_mean_squared_error: 0.0219\n",
      "Epoch 43/100\n",
      "104/104 [==============================] - 0s 77us/step - loss: 0.0292 - accuracy: 0.1442 - mean_squared_error: 0.0292 - val_loss: 0.0217 - val_accuracy: 0.1154 - val_mean_squared_error: 0.0217\n",
      "Epoch 44/100\n",
      "104/104 [==============================] - 0s 105us/step - loss: 0.0288 - accuracy: 0.1442 - mean_squared_error: 0.0288 - val_loss: 0.0214 - val_accuracy: 0.1154 - val_mean_squared_error: 0.0214\n",
      "Epoch 45/100\n",
      "104/104 [==============================] - ETA: 0s - loss: 0.0213 - accuracy: 0.1400 - mean_squared_error: 0.021 - 0s 96us/step - loss: 0.0283 - accuracy: 0.1442 - mean_squared_error: 0.0283 - val_loss: 0.0203 - val_accuracy: 0.1154 - val_mean_squared_error: 0.0203\n",
      "Epoch 46/100\n",
      "104/104 [==============================] - 0s 115us/step - loss: 0.0284 - accuracy: 0.1442 - mean_squared_error: 0.0284 - val_loss: 0.0199 - val_accuracy: 0.1154 - val_mean_squared_error: 0.0199\n",
      "Epoch 47/100\n",
      "104/104 [==============================] - 0s 86us/step - loss: 0.0281 - accuracy: 0.1442 - mean_squared_error: 0.0281 - val_loss: 0.0201 - val_accuracy: 0.1154 - val_mean_squared_error: 0.0201\n",
      "Epoch 48/100\n",
      "104/104 [==============================] - 0s 96us/step - loss: 0.0276 - accuracy: 0.1442 - mean_squared_error: 0.0276 - val_loss: 0.0207 - val_accuracy: 0.1154 - val_mean_squared_error: 0.0207\n",
      "Epoch 49/100\n",
      "104/104 [==============================] - 0s 77us/step - loss: 0.0273 - accuracy: 0.1442 - mean_squared_error: 0.0273 - val_loss: 0.0222 - val_accuracy: 0.1154 - val_mean_squared_error: 0.0222\n",
      "Epoch 50/100\n",
      "104/104 [==============================] - 0s 96us/step - loss: 0.0276 - accuracy: 0.1442 - mean_squared_error: 0.0276 - val_loss: 0.0238 - val_accuracy: 0.1154 - val_mean_squared_error: 0.0238\n",
      "Epoch 51/100\n",
      "104/104 [==============================] - 0s 105us/step - loss: 0.0282 - accuracy: 0.1442 - mean_squared_error: 0.0282 - val_loss: 0.0247 - val_accuracy: 0.1154 - val_mean_squared_error: 0.0247\n",
      "Epoch 52/100\n",
      "104/104 [==============================] - 0s 86us/step - loss: 0.0287 - accuracy: 0.1442 - mean_squared_error: 0.0287 - val_loss: 0.0242 - val_accuracy: 0.1154 - val_mean_squared_error: 0.0242\n",
      "Epoch 53/100\n",
      "104/104 [==============================] - 0s 77us/step - loss: 0.0283 - accuracy: 0.1442 - mean_squared_error: 0.0283 - val_loss: 0.0224 - val_accuracy: 0.1154 - val_mean_squared_error: 0.0224\n",
      "Epoch 54/100\n",
      "104/104 [==============================] - 0s 105us/step - loss: 0.0270 - accuracy: 0.1442 - mean_squared_error: 0.0270 - val_loss: 0.0208 - val_accuracy: 0.1154 - val_mean_squared_error: 0.0208\n",
      "Epoch 55/100\n",
      "104/104 [==============================] - 0s 96us/step - loss: 0.0268 - accuracy: 0.1442 - mean_squared_error: 0.0268 - val_loss: 0.0201 - val_accuracy: 0.1154 - val_mean_squared_error: 0.0201\n",
      "Epoch 56/100\n",
      "104/104 [==============================] - 0s 96us/step - loss: 0.0267 - accuracy: 0.1442 - mean_squared_error: 0.0267 - val_loss: 0.0198 - val_accuracy: 0.1154 - val_mean_squared_error: 0.0198\n",
      "Epoch 57/100\n",
      "104/104 [==============================] - 0s 77us/step - loss: 0.0259 - accuracy: 0.1442 - mean_squared_error: 0.0259 - val_loss: 0.0202 - val_accuracy: 0.1154 - val_mean_squared_error: 0.0202\n",
      "Epoch 58/100\n",
      "104/104 [==============================] - 0s 86us/step - loss: 0.0254 - accuracy: 0.1442 - mean_squared_error: 0.0254 - val_loss: 0.0200 - val_accuracy: 0.1154 - val_mean_squared_error: 0.0200\n",
      "Epoch 59/100\n",
      "104/104 [==============================] - 0s 86us/step - loss: 0.0251 - accuracy: 0.1442 - mean_squared_error: 0.0251 - val_loss: 0.0197 - val_accuracy: 0.1154 - val_mean_squared_error: 0.0197\n",
      "Epoch 60/100\n",
      "104/104 [==============================] - 0s 106us/step - loss: 0.0252 - accuracy: 0.1442 - mean_squared_error: 0.0252 - val_loss: 0.0195 - val_accuracy: 0.1154 - val_mean_squared_error: 0.0195\n",
      "Epoch 61/100\n",
      "104/104 [==============================] - 0s 86us/step - loss: 0.0248 - accuracy: 0.1442 - mean_squared_error: 0.0248 - val_loss: 0.0199 - val_accuracy: 0.1154 - val_mean_squared_error: 0.0199\n",
      "Epoch 62/100\n",
      "104/104 [==============================] - 0s 77us/step - loss: 0.0244 - accuracy: 0.1442 - mean_squared_error: 0.0244 - val_loss: 0.0205 - val_accuracy: 0.1154 - val_mean_squared_error: 0.0205\n",
      "Epoch 63/100\n",
      "104/104 [==============================] - 0s 96us/step - loss: 0.0244 - accuracy: 0.1442 - mean_squared_error: 0.0244 - val_loss: 0.0215 - val_accuracy: 0.1154 - val_mean_squared_error: 0.0215\n",
      "Epoch 64/100\n",
      "104/104 [==============================] - 0s 96us/step - loss: 0.0244 - accuracy: 0.1442 - mean_squared_error: 0.0244 - val_loss: 0.0212 - val_accuracy: 0.1154 - val_mean_squared_error: 0.0212\n",
      "Epoch 65/100\n",
      "104/104 [==============================] - 0s 105us/step - loss: 0.0239 - accuracy: 0.1442 - mean_squared_error: 0.0239 - val_loss: 0.0197 - val_accuracy: 0.1154 - val_mean_squared_error: 0.0197\n",
      "Epoch 66/100\n",
      "104/104 [==============================] - 0s 115us/step - loss: 0.0236 - accuracy: 0.1442 - mean_squared_error: 0.0236 - val_loss: 0.0198 - val_accuracy: 0.1154 - val_mean_squared_error: 0.0198\n",
      "Epoch 67/100\n",
      "104/104 [==============================] - 0s 125us/step - loss: 0.0235 - accuracy: 0.1442 - mean_squared_error: 0.0235 - val_loss: 0.0202 - val_accuracy: 0.1154 - val_mean_squared_error: 0.0202\n",
      "Epoch 68/100\n",
      "104/104 [==============================] - 0s 96us/step - loss: 0.0234 - accuracy: 0.1442 - mean_squared_error: 0.0234 - val_loss: 0.0199 - val_accuracy: 0.1154 - val_mean_squared_error: 0.0199\n",
      "Epoch 69/100\n",
      "104/104 [==============================] - 0s 86us/step - loss: 0.0232 - accuracy: 0.1442 - mean_squared_error: 0.0232 - val_loss: 0.0190 - val_accuracy: 0.1154 - val_mean_squared_error: 0.0190\n",
      "Epoch 70/100\n",
      "104/104 [==============================] - 0s 105us/step - loss: 0.0229 - accuracy: 0.1442 - mean_squared_error: 0.0229 - val_loss: 0.0188 - val_accuracy: 0.1154 - val_mean_squared_error: 0.0188\n",
      "Epoch 71/100\n",
      "104/104 [==============================] - 0s 86us/step - loss: 0.0228 - accuracy: 0.1442 - mean_squared_error: 0.0228 - val_loss: 0.0188 - val_accuracy: 0.1154 - val_mean_squared_error: 0.0188\n",
      "Epoch 72/100\n",
      "104/104 [==============================] - 0s 86us/step - loss: 0.0225 - accuracy: 0.1442 - mean_squared_error: 0.0225 - val_loss: 0.0185 - val_accuracy: 0.1154 - val_mean_squared_error: 0.0185\n",
      "Epoch 73/100\n",
      "104/104 [==============================] - 0s 105us/step - loss: 0.0227 - accuracy: 0.1442 - mean_squared_error: 0.0227 - val_loss: 0.0184 - val_accuracy: 0.1154 - val_mean_squared_error: 0.0184\n",
      "Epoch 74/100\n",
      "104/104 [==============================] - 0s 106us/step - loss: 0.0223 - accuracy: 0.1442 - mean_squared_error: 0.0223 - val_loss: 0.0204 - val_accuracy: 0.1154 - val_mean_squared_error: 0.0204\n",
      "Epoch 75/100\n",
      "104/104 [==============================] - 0s 96us/step - loss: 0.0225 - accuracy: 0.1442 - mean_squared_error: 0.0225 - val_loss: 0.0226 - val_accuracy: 0.1154 - val_mean_squared_error: 0.0226\n",
      "Epoch 76/100\n",
      "104/104 [==============================] - 0s 96us/step - loss: 0.0227 - accuracy: 0.1442 - mean_squared_error: 0.0227 - val_loss: 0.0221 - val_accuracy: 0.1154 - val_mean_squared_error: 0.0221\n",
      "Epoch 77/100\n",
      "104/104 [==============================] - 0s 86us/step - loss: 0.0223 - accuracy: 0.1442 - mean_squared_error: 0.0223 - val_loss: 0.0214 - val_accuracy: 0.1154 - val_mean_squared_error: 0.0214\n",
      "Epoch 78/100\n",
      "104/104 [==============================] - 0s 86us/step - loss: 0.0219 - accuracy: 0.1442 - mean_squared_error: 0.0219 - val_loss: 0.0207 - val_accuracy: 0.1154 - val_mean_squared_error: 0.0207\n",
      "Epoch 79/100\n"
     ]
    },
    {
     "name": "stdout",
     "output_type": "stream",
     "text": [
      "104/104 [==============================] - 0s 105us/step - loss: 0.0217 - accuracy: 0.1442 - mean_squared_error: 0.0217 - val_loss: 0.0200 - val_accuracy: 0.1154 - val_mean_squared_error: 0.0200\n",
      "Epoch 80/100\n",
      "104/104 [==============================] - 0s 105us/step - loss: 0.0214 - accuracy: 0.1442 - mean_squared_error: 0.0214 - val_loss: 0.0190 - val_accuracy: 0.1154 - val_mean_squared_error: 0.0190\n",
      "Epoch 81/100\n",
      "104/104 [==============================] - 0s 96us/step - loss: 0.0217 - accuracy: 0.1442 - mean_squared_error: 0.0217 - val_loss: 0.0181 - val_accuracy: 0.1154 - val_mean_squared_error: 0.0181\n",
      "Epoch 82/100\n",
      "104/104 [==============================] - 0s 86us/step - loss: 0.0217 - accuracy: 0.1442 - mean_squared_error: 0.0217 - val_loss: 0.0180 - val_accuracy: 0.1154 - val_mean_squared_error: 0.0180\n",
      "Epoch 83/100\n",
      "104/104 [==============================] - 0s 105us/step - loss: 0.0211 - accuracy: 0.1442 - mean_squared_error: 0.0211 - val_loss: 0.0185 - val_accuracy: 0.1154 - val_mean_squared_error: 0.0185\n",
      "Epoch 84/100\n",
      "104/104 [==============================] - 0s 86us/step - loss: 0.0208 - accuracy: 0.1442 - mean_squared_error: 0.0208 - val_loss: 0.0184 - val_accuracy: 0.1154 - val_mean_squared_error: 0.0184\n",
      "Epoch 85/100\n",
      "104/104 [==============================] - 0s 77us/step - loss: 0.0207 - accuracy: 0.1442 - mean_squared_error: 0.0207 - val_loss: 0.0193 - val_accuracy: 0.1154 - val_mean_squared_error: 0.0193\n",
      "Epoch 86/100\n",
      "104/104 [==============================] - 0s 86us/step - loss: 0.0208 - accuracy: 0.1442 - mean_squared_error: 0.0208 - val_loss: 0.0216 - val_accuracy: 0.1154 - val_mean_squared_error: 0.0216\n",
      "Epoch 87/100\n",
      "104/104 [==============================] - 0s 96us/step - loss: 0.0214 - accuracy: 0.1442 - mean_squared_error: 0.0214 - val_loss: 0.0213 - val_accuracy: 0.1154 - val_mean_squared_error: 0.0213\n",
      "Epoch 88/100\n",
      "104/104 [==============================] - 0s 77us/step - loss: 0.0207 - accuracy: 0.1442 - mean_squared_error: 0.0207 - val_loss: 0.0191 - val_accuracy: 0.1154 - val_mean_squared_error: 0.0191\n",
      "Epoch 89/100\n",
      "104/104 [==============================] - 0s 77us/step - loss: 0.0201 - accuracy: 0.1442 - mean_squared_error: 0.0201 - val_loss: 0.0185 - val_accuracy: 0.1154 - val_mean_squared_error: 0.0185\n",
      "Epoch 90/100\n",
      "104/104 [==============================] - 0s 105us/step - loss: 0.0205 - accuracy: 0.1538 - mean_squared_error: 0.0205 - val_loss: 0.0182 - val_accuracy: 0.1154 - val_mean_squared_error: 0.0182\n",
      "Epoch 91/100\n",
      "104/104 [==============================] - 0s 96us/step - loss: 0.0206 - accuracy: 0.1538 - mean_squared_error: 0.0206 - val_loss: 0.0181 - val_accuracy: 0.1154 - val_mean_squared_error: 0.0181\n",
      "Epoch 92/100\n",
      "104/104 [==============================] - 0s 86us/step - loss: 0.0203 - accuracy: 0.1538 - mean_squared_error: 0.0203 - val_loss: 0.0177 - val_accuracy: 0.1154 - val_mean_squared_error: 0.0177\n",
      "Epoch 93/100\n",
      "104/104 [==============================] - 0s 77us/step - loss: 0.0214 - accuracy: 0.1538 - mean_squared_error: 0.0214 - val_loss: 0.0177 - val_accuracy: 0.1154 - val_mean_squared_error: 0.0177\n",
      "Epoch 94/100\n",
      "104/104 [==============================] - 0s 67us/step - loss: 0.0204 - accuracy: 0.1538 - mean_squared_error: 0.0204 - val_loss: 0.0193 - val_accuracy: 0.1154 - val_mean_squared_error: 0.0193\n",
      "Epoch 95/100\n",
      "104/104 [==============================] - 0s 96us/step - loss: 0.0203 - accuracy: 0.1538 - mean_squared_error: 0.0203 - val_loss: 0.0229 - val_accuracy: 0.1154 - val_mean_squared_error: 0.0229\n",
      "Epoch 96/100\n",
      "104/104 [==============================] - 0s 77us/step - loss: 0.0209 - accuracy: 0.1442 - mean_squared_error: 0.0209 - val_loss: 0.0227 - val_accuracy: 0.1154 - val_mean_squared_error: 0.0227\n",
      "Epoch 97/100\n",
      "104/104 [==============================] - 0s 86us/step - loss: 0.0206 - accuracy: 0.1442 - mean_squared_error: 0.0206 - val_loss: 0.0210 - val_accuracy: 0.1154 - val_mean_squared_error: 0.0210\n",
      "Epoch 98/100\n",
      "104/104 [==============================] - 0s 86us/step - loss: 0.0199 - accuracy: 0.1442 - mean_squared_error: 0.0199 - val_loss: 0.0197 - val_accuracy: 0.1154 - val_mean_squared_error: 0.0197\n",
      "Epoch 99/100\n",
      "104/104 [==============================] - 0s 86us/step - loss: 0.0196 - accuracy: 0.1442 - mean_squared_error: 0.0196 - val_loss: 0.0194 - val_accuracy: 0.1154 - val_mean_squared_error: 0.0194\n",
      "Epoch 100/100\n",
      "104/104 [==============================] - 0s 77us/step - loss: 0.0196 - accuracy: 0.1442 - mean_squared_error: 0.0196 - val_loss: 0.0191 - val_accuracy: 0.1154 - val_mean_squared_error: 0.0191\n"
     ]
    },
    {
     "data": {
      "text/plain": [
       "<keras.callbacks.callbacks.History at 0x1aadbb74a08>"
      ]
     },
     "execution_count": 28,
     "metadata": {},
     "output_type": "execute_result"
    }
   ],
   "source": [
    "history= model.fit(x_train,y_train,epochs=100,batch_size=50,validation_split=0.2,verbose=1)\n",
    "history"
   ]
  },
  {
   "cell_type": "code",
   "execution_count": 36,
   "metadata": {},
   "outputs": [
    {
     "name": "stdout",
     "output_type": "stream",
     "text": [
      "[[ 0.00982367]\n",
      " [ 0.03425946]\n",
      " [ 0.38305414]\n",
      " [ 0.10116941]\n",
      " [ 0.06178394]\n",
      " [ 0.02845051]\n",
      " [ 0.5413697 ]\n",
      " [ 0.16607371]\n",
      " [ 0.01295893]\n",
      " [ 0.37218013]\n",
      " [ 0.04064348]\n",
      " [-0.00125551]\n",
      " [ 0.02552596]\n",
      " [ 0.05043808]\n",
      " [ 0.26660344]\n",
      " [ 0.02922318]\n",
      " [ 0.1438905 ]\n",
      " [ 0.35770816]\n",
      " [ 0.00516209]\n",
      " [ 0.02775337]\n",
      " [ 0.0301939 ]\n",
      " [ 0.53981674]\n",
      " [ 0.2977624 ]\n",
      " [ 0.2505569 ]\n",
      " [ 0.03235959]\n",
      " [ 0.51398945]\n",
      " [ 0.4659412 ]\n",
      " [ 0.33205497]\n",
      " [ 0.01525072]\n",
      " [-0.00141758]\n",
      " [ 0.45200294]\n",
      " [ 0.00708533]\n",
      " [ 0.3449701 ]]\n",
      "[[0.00230681]\n",
      " [0.01845444]\n",
      " [0.05420992]\n",
      " [0.43713956]\n",
      " [0.01038062]\n",
      " [0.01153403]\n",
      " [0.44175317]\n",
      " [0.01614764]\n",
      " [0.01268743]\n",
      " [0.54786621]\n",
      " [0.03575548]\n",
      " [0.        ]\n",
      " [0.01038062]\n",
      " [0.02883506]\n",
      " [0.56978085]\n",
      " [0.03575548]\n",
      " [0.00461361]\n",
      " [0.56632065]\n",
      " [0.00461361]\n",
      " [0.        ]\n",
      " [0.00230681]\n",
      " [0.76355248]\n",
      " [0.32641292]\n",
      " [0.14532872]\n",
      " [0.03921569]\n",
      " [0.02191465]\n",
      " [0.31372549]\n",
      " [0.20184544]\n",
      " [0.0011534 ]\n",
      " [0.0011534 ]\n",
      " [0.80968858]\n",
      " [0.01038062]\n",
      " [0.01845444]]\n"
     ]
    }
   ],
   "source": [
    "prediction = model.predict(x_test)\n",
    "print(prediction)\n",
    "print(y_test)"
   ]
  },
  {
   "cell_type": "code",
   "execution_count": 30,
   "metadata": {},
   "outputs": [
    {
     "name": "stdout",
     "output_type": "stream",
     "text": [
      "33/33 [==============================] - 0s 121us/step\n"
     ]
    },
    {
     "data": {
      "text/plain": [
       "[0.031020920836564266, 0.06060606241226196, 0.031020918861031532]"
      ]
     },
     "execution_count": 30,
     "metadata": {},
     "output_type": "execute_result"
    }
   ],
   "source": [
    "model.evaluate(x_test,y_test)"
   ]
  },
  {
   "cell_type": "code",
   "execution_count": 32,
   "metadata": {},
   "outputs": [
    {
     "name": "stdout",
     "output_type": "stream",
     "text": [
      "dict_keys(['val_loss', 'val_accuracy', 'val_mean_squared_error', 'loss', 'accuracy', 'mean_squared_error'])\n"
     ]
    },
    {
     "data": {
      "image/png": "[encoded data removed]",
      "text/plain": [
       "<Figure size 432x288 with 1 Axes>"
      ]
     },
     "metadata": {
      "needs_background": "light"
     },
     "output_type": "display_data"
    }
   ],
   "source": [
    "import matplotlib.pyplot as plt\n",
    "# summarize history loss\n",
    "print(history.history.keys())\n",
    "plt.plot(history.history['loss'])\n",
    "plt.plot(history.history['val_loss'])\n",
    "plt.title('Model MSE')\n",
    "plt.ylabel('MSE')\n",
    "plt.xlabel('epoch')\n",
    "plt.legend(['Train_MSE', 'Test_MSE'], loc='upper left')\n",
    "plt.show()"
   ]
  },
  {
   "cell_type": "code",
   "execution_count": 35,
   "metadata": {},
   "outputs": [
    {
     "data": {
      "image/png": "[encoded data removed]",
      "text/plain": [
       "<Figure size 432x288 with 1 Axes>"
      ]
     },
     "metadata": {
      "needs_background": "light"
     },
     "output_type": "display_data"
    }
   ],
   "source": [
    "plt.plot(y_test)\n",
    "plt.plot(prediction)\n",
    "plt.title('Predicted vs Actual value plot')\n",
    "plt.ylabel('Percentage')\n",
    "plt.xlabel('Index')\n",
    "plt.legend(['Actual value', 'Predicted value'], loc='upper left')\n",
    "plt.show()"
   ]
  },
  {
   "cell_type": "code",
   "execution_count": 37,
   "metadata": {},
   "outputs": [],
   "source": [
    "from sklearn.metrics import r2_score"
   ]
  },
  {
   "cell_type": "code",
   "execution_count": 38,
   "metadata": {},
   "outputs": [
    {
     "data": {
      "text/plain": [
       "0.4730218311017438"
      ]
     },
     "execution_count": 38,
     "metadata": {},
     "output_type": "execute_result"
    }
   ],
   "source": [
    "r2_score(y_test, prediction)"
   ]
  },
  {
   "cell_type": "code",
   "execution_count": null,
   "metadata": {},
   "outputs": [],
   "source": []
  },
  {
   "cell_type": "markdown",
   "metadata": {},
   "source": [
    "# Applying principle component analysis"
   ]
  },
  {
   "cell_type": "code",
   "execution_count": null,
   "metadata": {},
   "outputs": [],
   "source": []
  },
  {
   "cell_type": "code",
   "execution_count": null,
   "metadata": {},
   "outputs": [],
   "source": []
  }
 ],
 "metadata": {
  "kernelspec": {
   "display_name": "Python 3",
   "language": "python",
   "name": "python3"
  },
  "language_info": {
   "codemirror_mode": {
    "name": "ipython",
    "version": 3
   },
   "file_extension": ".py",
   "mimetype": "text/x-python",
   "name": "python",
   "nbconvert_exporter": "python",
   "pygments_lexer": "ipython3",
   "version": "3.7.4"
  }
 },
 "nbformat": 4,
 "nbformat_minor": 4
}
